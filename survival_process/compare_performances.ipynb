{
 "cells": [
  {
   "cell_type": "markdown",
   "metadata": {},
   "source": [
    "# Performances comparison"
   ]
  },
  {
   "cell_type": "code",
   "execution_count": 1,
   "metadata": {},
   "outputs": [],
   "source": [
    "library(compareC)"
   ]
  },
  {
   "cell_type": "code",
   "execution_count": 2,
   "metadata": {},
   "outputs": [],
   "source": [
    "load('../../data/main_process_preprocessed_data_test.RData')\n",
    "\n",
    "cox_pred = read.csv('../../data/predictions_cox.csv')[,1]\n",
    "drsa_pred = read.csv('../../data/predictions_DRSA.csv')[,1]\n",
    "deephit_pred = read.csv('../../data/predictions_deepHit.csv')[,1]"
   ]
  },
  {
   "cell_type": "code",
   "execution_count": 3,
   "metadata": {},
   "outputs": [],
   "source": [
    "c_cox = estC(test_df$time_event,test_df$status, -cox_pred)\n",
    "c_deephit = estC(test_df$time_event,test_df$status, deephit_pred)\n",
    "c_drsa = estC(test_df$time_event,test_df$status, drsa_pred)"
   ]
  },
  {
   "cell_type": "code",
   "execution_count": 4,
   "metadata": {},
   "outputs": [
    {
     "name": "stdout",
     "output_type": "stream",
     "text": [
      "[1] \"Estimated C-index Cox: 67.558\"\n",
      "[1] \"Estimated C-index DeepHit: 68.069\"\n",
      "[1] \"Estimated C-index DRSA: 68.582\"\n"
     ]
    }
   ],
   "source": [
    "print(paste('Estimated C-index Cox:',round(c_cox*100,3)))\n",
    "print(paste('Estimated C-index DeepHit:',round(c_deephit*100,3)))\n",
    "print(paste('Estimated C-index DRSA:',round(c_drsa*100,3)))"
   ]
  },
  {
   "cell_type": "markdown",
   "metadata": {},
   "source": [
    "## Test significance\n",
    "\n",
    "Let's compute p-values for the following test"
   ]
  },
  {
   "cell_type": "markdown",
   "metadata": {},
   "source": [
    "$H_0: C_{DRSA} = C_{Cox}$\n",
    "\n",
    "$H_1: C_{DRSA} \\neq C_{Cox}$"
   ]
  },
  {
   "cell_type": "code",
   "execution_count": 5,
   "metadata": {},
   "outputs": [
    {
     "name": "stdout",
     "output_type": "stream",
     "text": [
      "[1] \"p-value: 0.266 %\"\n"
     ]
    }
   ],
   "source": [
    "p = compareC(test_df$time_event,test_df$status, drsa_pred, -cox_pred)$pval\n",
    "print(paste('p-value:',round(100*p,4),'%'))"
   ]
  },
  {
   "cell_type": "markdown",
   "metadata": {},
   "source": [
    "We can reject $H_0$."
   ]
  },
  {
   "cell_type": "markdown",
   "metadata": {},
   "source": [
    "**Equivalently:**"
   ]
  },
  {
   "cell_type": "markdown",
   "metadata": {},
   "source": [
    "$H_0: C_{DRSA} \\leq C_{Cox}$\n",
    "\n",
    "$H_1: C_{DRSA} > C_{Cox}$"
   ]
  },
  {
   "cell_type": "code",
   "execution_count": 6,
   "metadata": {},
   "outputs": [
    {
     "name": "stdout",
     "output_type": "stream",
     "text": [
      "[1] \"p-value: 0.133 %\"\n"
     ]
    }
   ],
   "source": [
    "p = compareC(test_df$time_event,test_df$status, drsa_pred, -cox_pred)$pval/2\n",
    "print(paste('p-value:',round(100*p,4),'%'))"
   ]
  },
  {
   "cell_type": "code",
   "execution_count": null,
   "metadata": {},
   "outputs": [],
   "source": []
  }
 ],
 "metadata": {
  "kernelspec": {
   "display_name": "R",
   "language": "R",
   "name": "ir"
  },
  "language_info": {
   "codemirror_mode": "r",
   "file_extension": ".r",
   "mimetype": "text/x-r-source",
   "name": "R",
   "pygments_lexer": "r",
   "version": "3.5.2"
  }
 },
 "nbformat": 4,
 "nbformat_minor": 2
}
