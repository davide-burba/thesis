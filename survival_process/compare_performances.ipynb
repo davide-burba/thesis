{
 "cells": [
  {
   "cell_type": "markdown",
   "metadata": {},
   "source": [
    "# Performances comparison"
   ]
  },
  {
   "cell_type": "code",
   "execution_count": 1,
   "metadata": {},
   "outputs": [],
   "source": [
    "library(compareC)"
   ]
  },
  {
   "cell_type": "code",
   "execution_count": 13,
   "metadata": {},
   "outputs": [],
   "source": [
    "load('../../data/main_process_preprocessed_data_test.RData')\n",
    "\n",
    "cox_pred = read.csv('../../data/predictions_cox.csv')\n",
    "drsa_pred = read.csv('../../data/predictions_DRSA.csv')\n",
    "deephit_pred = read.csv('../../data/predictions_deepHit.csv')\n",
    "\n",
    "# make it comparable\n",
    "cox_pred = -scale(cox_pred[,1])\n",
    "drsa_pred = scale(drsa_pred[,1])\n",
    "deephit_pred = scale(deephit_pred[,1])\n",
    "\n",
    "# ensemble prediction\n",
    "mean_pred = (cox_pred + drsa_pred + deephit_pred)/3"
   ]
  },
  {
   "cell_type": "code",
   "execution_count": 24,
   "metadata": {},
   "outputs": [
    {
     "name": "stdout",
     "output_type": "stream",
     "text": [
      "[1] \"C-index Cox: 68.107\"\n",
      "[1] \"C-index DRSA: 68.253\"\n",
      "[1] \"C-index DeepHit: 68.069\"\n",
      "[1] \"C-index Ensemble: 68.438\"\n"
     ]
    }
   ],
   "source": [
    "print(paste('C-index Cox:',round(estC(test_df$time_event,test_df$status,cox_pred)*100,3)))\n",
    "print(paste('C-index DRSA:',round(estC(test_df$time_event,test_df$status,drsa_pred)*100,3)))\n",
    "print(paste('C-index DeepHit:',round(estC(test_df$time_event,test_df$status,deephit_pred)*100,3)))\n",
    "print(paste('C-index Ensemble:',round(estC(test_df$time_event,test_df$status,mean_pred)*100,3)))"
   ]
  },
  {
   "cell_type": "markdown",
   "metadata": {},
   "source": [
    "## Test significance"
   ]
  },
  {
   "cell_type": "code",
   "execution_count": 17,
   "metadata": {},
   "outputs": [
    {
     "data": {
      "text/html": [
       "0.624813479366632"
      ],
      "text/latex": [
       "0.624813479366632"
      ],
      "text/markdown": [
       "0.624813479366632"
      ],
      "text/plain": [
       "[1] 0.6248135"
      ]
     },
     "metadata": {},
     "output_type": "display_data"
    }
   ],
   "source": [
    "# comparison between cox and drsa\n",
    "compareC(test_df$time_event,test_df$status,cox_pred,drsa_pred)$pval"
   ]
  },
  {
   "cell_type": "code",
   "execution_count": 18,
   "metadata": {},
   "outputs": [
    {
     "data": {
      "text/html": [
       "0.270134896000195"
      ],
      "text/latex": [
       "0.270134896000195"
      ],
      "text/markdown": [
       "0.270134896000195"
      ],
      "text/plain": [
       "[1] 0.2701349"
      ]
     },
     "metadata": {},
     "output_type": "display_data"
    }
   ],
   "source": [
    "# comparison between cox and ensemble\n",
    "compareC(test_df$time_event,test_df$status,cox_pred,mean_pred)$pval"
   ]
  },
  {
   "cell_type": "markdown",
   "metadata": {},
   "source": [
    "The differences don't appear to be significative."
   ]
  },
  {
   "cell_type": "code",
   "execution_count": null,
   "metadata": {},
   "outputs": [],
   "source": []
  }
 ],
 "metadata": {
  "kernelspec": {
   "display_name": "R",
   "language": "R",
   "name": "ir"
  },
  "language_info": {
   "codemirror_mode": "r",
   "file_extension": ".r",
   "mimetype": "text/x-r-source",
   "name": "R",
   "pygments_lexer": "r",
   "version": "3.5.2"
  }
 },
 "nbformat": 4,
 "nbformat_minor": 2
}
