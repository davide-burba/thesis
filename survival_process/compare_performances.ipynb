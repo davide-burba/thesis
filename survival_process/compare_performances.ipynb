{
 "cells": [
  {
   "cell_type": "markdown",
   "metadata": {},
   "source": [
    "# Performances comparison"
   ]
  },
  {
   "cell_type": "code",
   "execution_count": 1,
   "metadata": {},
   "outputs": [
    {
     "name": "stderr",
     "output_type": "stream",
     "text": [
      "Loading required package: survival\n",
      "Loading required package: prodlim\n"
     ]
    }
   ],
   "source": [
    "library(survcomp)"
   ]
  },
  {
   "cell_type": "code",
   "execution_count": 2,
   "metadata": {},
   "outputs": [],
   "source": [
    "load('../../data/main_process_preprocessed_data_test.RData')\n",
    "\n",
    "cox_pred = read.csv('../../data/predictions_cox.csv')[,1]\n",
    "drsa_pred = read.csv('../../data/predictions_DRSA.csv')[,1]\n",
    "deephit_pred = read.csv('../../data/predictions_deepHit.csv')[,1]\n",
    "\n",
    "# ensemble prediction\n",
    "mean_pred = (-scale(cox_pred) + scale(drsa_pred) + scale(deephit_pred))/3"
   ]
  },
  {
   "cell_type": "code",
   "execution_count": 3,
   "metadata": {},
   "outputs": [],
   "source": [
    "c_cox = concordance.index(cox_pred,test_df$time_event,test_df$status,method = \"noether\")\n",
    "c_drsa = concordance.index(-drsa_pred,test_df$time_event,test_df$status,method = \"noether\")\n",
    "c_deephit = concordance.index(-deephit_pred,test_df$time_event,test_df$status,method = \"noether\")"
   ]
  },
  {
   "cell_type": "code",
   "execution_count": 4,
   "metadata": {},
   "outputs": [
    {
     "name": "stdout",
     "output_type": "stream",
     "text": [
      "[1] \"C-index Cox: 68.113\"\n",
      "[1] \"C-index DRSA: 69.253\"\n",
      "[1] \"C-index DeepHit: 68.073\"\n"
     ]
    }
   ],
   "source": [
    "print(paste('C-index Cox:',round(c_cox$c.index*100,3)))\n",
    "print(paste('C-index DRSA:',round(c_drsa$c.index*100,3)))\n",
    "print(paste('C-index DeepHit:',round(c_deephit$c.index*100,3)))"
   ]
  },
  {
   "cell_type": "markdown",
   "metadata": {},
   "source": [
    "## Test significance\n",
    "\n",
    "Let's compute p-values from the Student t-test for the comparison cindex1 > cindex2."
   ]
  },
  {
   "cell_type": "markdown",
   "metadata": {},
   "source": [
    "$H_0: C_{DRSA} \\leq C_{Cox}$\n",
    "\n",
    "$H_1: C_{DRSA} > C_{Cox}$"
   ]
  },
  {
   "cell_type": "code",
   "execution_count": 5,
   "metadata": {},
   "outputs": [
    {
     "name": "stdout",
     "output_type": "stream",
     "text": [
      "[1] \"p-value: 0.58 %\"\n"
     ]
    }
   ],
   "source": [
    "print(paste('p-value:',round(100*cindex.comp(c_drsa,c_cox)$p.value,2),'%'))"
   ]
  },
  {
   "cell_type": "markdown",
   "metadata": {},
   "source": [
    "We can reject $H_0$."
   ]
  },
  {
   "cell_type": "code",
   "execution_count": null,
   "metadata": {},
   "outputs": [],
   "source": []
  }
 ],
 "metadata": {
  "kernelspec": {
   "display_name": "R",
   "language": "R",
   "name": "ir"
  },
  "language_info": {
   "codemirror_mode": "r",
   "file_extension": ".r",
   "mimetype": "text/x-r-source",
   "name": "R",
   "pygments_lexer": "r",
   "version": "3.5.2"
  }
 },
 "nbformat": 4,
 "nbformat_minor": 2
}
