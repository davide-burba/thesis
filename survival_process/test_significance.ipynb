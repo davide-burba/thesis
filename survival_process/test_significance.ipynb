{
 "cells": [
  {
   "cell_type": "markdown",
   "metadata": {},
   "source": [
    "# Performance comparison"
   ]
  },
  {
   "cell_type": "code",
   "execution_count": null,
   "metadata": {},
   "outputs": [],
   "source": [
    "library(compareC)"
   ]
  },
  {
   "cell_type": "code",
   "execution_count": 10,
   "metadata": {},
   "outputs": [],
   "source": [
    "load('../../data/main_process_preprocessed_data_test.RData')\n",
    "\n",
    "cox_pred = read.csv('../../data/cox_predictions.csv')\n",
    "drsa_pred = read.csv('../../data/DRSA_predictions.csv')"
   ]
  },
  {
   "cell_type": "code",
   "execution_count": 11,
   "metadata": {},
   "outputs": [
    {
     "name": "stdout",
     "output_type": "stream",
     "text": [
      " chr [1:3] \"cox_pred\" \"drsa_pred\" \"test_df\"\n"
     ]
    }
   ],
   "source": [
    "str(ls())"
   ]
  },
  {
   "cell_type": "code",
   "execution_count": 12,
   "metadata": {},
   "outputs": [
    {
     "data": {
      "text/html": [
       "<dl>\n",
       "\t<dt>$est.c</dt>\n",
       "\t\t<dd><dl class=dl-horizontal>\n",
       "\t<dt>Cxy</dt>\n",
       "\t\t<dd>0.681070966795964</dd>\n",
       "\t<dt>Cxz</dt>\n",
       "\t\t<dd>0.682532224310526</dd>\n",
       "</dl>\n",
       "</dd>\n",
       "\t<dt>$est.diff_c</dt>\n",
       "\t\t<dd>-0.00146125751456261</dd>\n",
       "\t<dt>$est.vardiff_c</dt>\n",
       "\t\t<dd>8.92822246631014e-06</dd>\n",
       "\t<dt>$est.varCxy</dt>\n",
       "\t\t<dd>0.000217042696767192</dd>\n",
       "\t<dt>$est.varCxz</dt>\n",
       "\t\t<dd>0.00021581964626169</dd>\n",
       "\t<dt>$est.cov</dt>\n",
       "\t\t<dd>0.000211967060281286</dd>\n",
       "\t<dt>$zscore</dt>\n",
       "\t\t<dd>-0.489039857217657</dd>\n",
       "\t<dt>$pval</dt>\n",
       "\t\t<dd>0.624813479366632</dd>\n",
       "</dl>\n"
      ],
      "text/latex": [
       "\\begin{description}\n",
       "\\item[\\$est.c] \\begin{description*}\n",
       "\\item[Cxy] 0.681070966795964\n",
       "\\item[Cxz] 0.682532224310526\n",
       "\\end{description*}\n",
       "\n",
       "\\item[\\$est.diff\\_c] -0.00146125751456261\n",
       "\\item[\\$est.vardiff\\_c] 8.92822246631014e-06\n",
       "\\item[\\$est.varCxy] 0.000217042696767192\n",
       "\\item[\\$est.varCxz] 0.00021581964626169\n",
       "\\item[\\$est.cov] 0.000211967060281286\n",
       "\\item[\\$zscore] -0.489039857217657\n",
       "\\item[\\$pval] 0.624813479366632\n",
       "\\end{description}\n"
      ],
      "text/markdown": [
       "$est.c\n",
       ":   Cxy\n",
       ":   0.681070966795964Cxz\n",
       ":   0.682532224310526\n",
       "\n",
       "\n",
       "$est.diff_c\n",
       ":   -0.00146125751456261\n",
       "$est.vardiff_c\n",
       ":   8.92822246631014e-06\n",
       "$est.varCxy\n",
       ":   0.000217042696767192\n",
       "$est.varCxz\n",
       ":   0.00021581964626169\n",
       "$est.cov\n",
       ":   0.000211967060281286\n",
       "$zscore\n",
       ":   -0.489039857217657\n",
       "$pval\n",
       ":   0.624813479366632\n",
       "\n",
       "\n"
      ],
      "text/plain": [
       "$est.c\n",
       "      Cxy       Cxz \n",
       "0.6810710 0.6825322 \n",
       "\n",
       "$est.diff_c\n",
       "[1] -0.001461258\n",
       "\n",
       "$est.vardiff_c\n",
       "[1] 8.928222e-06\n",
       "\n",
       "$est.varCxy\n",
       "[1] 0.0002170427\n",
       "\n",
       "$est.varCxz\n",
       "[1] 0.0002158196\n",
       "\n",
       "$est.cov\n",
       "[1] 0.0002119671\n",
       "\n",
       "$zscore\n",
       "[1] -0.4890399\n",
       "\n",
       "$pval\n",
       "[1] 0.6248135\n"
      ]
     },
     "metadata": {},
     "output_type": "display_data"
    }
   ],
   "source": [
    "compareC(test_df$time_event,test_df$status,-cox_pred[,1],drsa_pred[,1])"
   ]
  },
  {
   "cell_type": "code",
   "execution_count": null,
   "metadata": {},
   "outputs": [],
   "source": []
  }
 ],
 "metadata": {
  "kernelspec": {
   "display_name": "R",
   "language": "R",
   "name": "ir"
  },
  "language_info": {
   "codemirror_mode": "r",
   "file_extension": ".r",
   "mimetype": "text/x-r-source",
   "name": "R",
   "pygments_lexer": "r",
   "version": "3.5.2"
  }
 },
 "nbformat": 4,
 "nbformat_minor": 2
}
