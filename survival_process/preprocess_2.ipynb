{
 "cells": [
  {
   "cell_type": "markdown",
   "metadata": {},
   "source": [
    "# Prepare dataset of main process"
   ]
  },
  {
   "cell_type": "code",
   "execution_count": 1,
   "metadata": {},
   "outputs": [
    {
     "name": "stderr",
     "output_type": "stream",
     "text": [
      "Loading required package: data.table\n",
      "Loading required package: lubridate\n",
      "\n",
      "Attaching package: ‘lubridate’\n",
      "\n",
      "The following objects are masked from ‘package:data.table’:\n",
      "\n",
      "    hour, isoweek, mday, minute, month, quarter, second, wday, week,\n",
      "    yday, year\n",
      "\n",
      "The following object is masked from ‘package:base’:\n",
      "\n",
      "    date\n",
      "\n"
     ]
    }
   ],
   "source": [
    "path = '/Users/davide/Documents/universita/tesi/src/survival_process'\n",
    "setwd(path)\n",
    "\n",
    "require(data.table)\n",
    "require(lubridate)\n",
    "\n",
    "source('../preprocess/utils/minor.R')"
   ]
  },
  {
   "cell_type": "markdown",
   "metadata": {},
   "source": [
    "## Data loading"
   ]
  },
  {
   "cell_type": "code",
   "execution_count": 11,
   "metadata": {},
   "outputs": [],
   "source": [
    "# Load data\n",
    "load('../../data/dati_HF_sample.RData')\n",
    "# Rename dataset\n",
    "df = bla\n",
    "rm(bla)\n",
    "\n",
    "# load preprocessed dataset to select patients\n",
    "load('../../data/preprocessed_data_ACE_2.RData')\n",
    "sel_df = ACE_df\n",
    "patients = unique(sel_df$id)\n",
    "\n",
    "# load fpca scores\n",
    "load('../../data/score_fpca_ACE.RData')"
   ]
  },
  {
   "cell_type": "markdown",
   "metadata": {},
   "source": [
    "## Preprocessing"
   ]
  },
  {
   "cell_type": "code",
   "execution_count": 13,
   "metadata": {},
   "outputs": [],
   "source": [
    "# rename features\n",
    "df = rename_features(df)\n",
    "# select rows relative to selected patients\n",
    "df = df[id %in% patients]\n",
    "# add time_event column\n",
    "df[,'time_event' := data_studio_out - (data_rif_ev + make_difftime('days' = 366))]"
   ]
  },
  {
   "cell_type": "code",
   "execution_count": 14,
   "metadata": {},
   "outputs": [
    {
     "name": "stdout",
     "output_type": "stream",
     "text": [
      "[1] \"Adding age_in column (age at t=0, i.e. at dismission from first hospitalization)\"\n",
      "  |======================================================================| 100%\n"
     ]
    }
   ],
   "source": [
    "# add age_in (before follow-up)\n",
    "df = add_age_in(df,verbose = TRUE)\n",
    "# add one year (time of follow-up):\n",
    "df[,'age_in' := age_in+1]"
   ]
  },
  {
   "cell_type": "code",
   "execution_count": 16,
   "metadata": {},
   "outputs": [],
   "source": [
    "# group by patient\n",
    "new_df = df[,list(\n",
    "    'sex' = first(sex),\n",
    "    'age_in' = first(age_in),\n",
    "    'time_event' = first(time_event),\n",
    "    'status' = first(desc_studio_out)\n",
    "  ),by=c(\"id\")]"
   ]
  },
  {
   "cell_type": "code",
   "execution_count": 17,
   "metadata": {},
   "outputs": [],
   "source": [
    "# add fpca scores\n",
    "setorderv(new_df, c('id')) \n",
    "setorderv(score, c('id')) \n",
    "\n",
    "new_df[,'PC1' := score$PC1]\n",
    "new_df[,'PC2' := score$PC2]"
   ]
  },
  {
   "cell_type": "code",
   "execution_count": 18,
   "metadata": {},
   "outputs": [],
   "source": [
    "# change columns order\n",
    "columns = c('id','sex','age_in','PC1','PC2','time_event','status')\n",
    "new_df = new_df[,..columns]"
   ]
  },
  {
   "cell_type": "code",
   "execution_count": 19,
   "metadata": {},
   "outputs": [],
   "source": [
    "# minors\n",
    "new_df[,status:=ifelse(status== 'DECEDUTO',1,0)]\n",
    "new_df[,time_event:=as.numeric(new_df$time_event)]"
   ]
  },
  {
   "cell_type": "code",
   "execution_count": 20,
   "metadata": {},
   "outputs": [
    {
     "data": {
      "text/html": [
       "<table>\n",
       "<thead><tr><th scope=col>id</th><th scope=col>sex</th><th scope=col>age_in</th><th scope=col>PC1</th><th scope=col>PC2</th><th scope=col>time_event</th><th scope=col>status</th></tr></thead>\n",
       "<tbody>\n",
       "\t<tr><td>10000243  </td><td>M         </td><td>70        </td><td>-40.851181</td><td> 1.0158516</td><td>  51      </td><td>1         </td></tr>\n",
       "\t<tr><td>10000471  </td><td>F         </td><td>80        </td><td>-41.405426</td><td> 0.8888934</td><td>1058      </td><td>1         </td></tr>\n",
       "\t<tr><td>10000717  </td><td>M         </td><td>73        </td><td>-10.854551</td><td>-9.4426737</td><td> 705      </td><td>0         </td></tr>\n",
       "\t<tr><td>10003004  </td><td>F         </td><td>75        </td><td>  4.612457</td><td>-2.4369352</td><td>1658      </td><td>1         </td></tr>\n",
       "\t<tr><td>10006065  </td><td>M         </td><td>69        </td><td> 61.216558</td><td> 6.4277908</td><td>1950      </td><td>0         </td></tr>\n",
       "\t<tr><td>10007000  </td><td>F         </td><td>84        </td><td> -2.634210</td><td> 3.4520296</td><td> 238      </td><td>1         </td></tr>\n",
       "</tbody>\n",
       "</table>\n"
      ],
      "text/latex": [
       "\\begin{tabular}{r|lllllll}\n",
       " id & sex & age\\_in & PC1 & PC2 & time\\_event & status\\\\\n",
       "\\hline\n",
       "\t 10000243   & M          & 70         & -40.851181 &  1.0158516 &   51       & 1         \\\\\n",
       "\t 10000471   & F          & 80         & -41.405426 &  0.8888934 & 1058       & 1         \\\\\n",
       "\t 10000717   & M          & 73         & -10.854551 & -9.4426737 &  705       & 0         \\\\\n",
       "\t 10003004   & F          & 75         &   4.612457 & -2.4369352 & 1658       & 1         \\\\\n",
       "\t 10006065   & M          & 69         &  61.216558 &  6.4277908 & 1950       & 0         \\\\\n",
       "\t 10007000   & F          & 84         &  -2.634210 &  3.4520296 &  238       & 1         \\\\\n",
       "\\end{tabular}\n"
      ],
      "text/markdown": [
       "\n",
       "| id | sex | age_in | PC1 | PC2 | time_event | status |\n",
       "|---|---|---|---|---|---|---|\n",
       "| 10000243   | M          | 70         | -40.851181 |  1.0158516 |   51       | 1          |\n",
       "| 10000471   | F          | 80         | -41.405426 |  0.8888934 | 1058       | 1          |\n",
       "| 10000717   | M          | 73         | -10.854551 | -9.4426737 |  705       | 0          |\n",
       "| 10003004   | F          | 75         |   4.612457 | -2.4369352 | 1658       | 1          |\n",
       "| 10006065   | M          | 69         |  61.216558 |  6.4277908 | 1950       | 0          |\n",
       "| 10007000   | F          | 84         |  -2.634210 |  3.4520296 |  238       | 1          |\n",
       "\n"
      ],
      "text/plain": [
       "  id       sex age_in PC1        PC2        time_event status\n",
       "1 10000243 M   70     -40.851181  1.0158516   51       1     \n",
       "2 10000471 F   80     -41.405426  0.8888934 1058       1     \n",
       "3 10000717 M   73     -10.854551 -9.4426737  705       0     \n",
       "4 10003004 F   75       4.612457 -2.4369352 1658       1     \n",
       "5 10006065 M   69      61.216558  6.4277908 1950       0     \n",
       "6 10007000 F   84      -2.634210  3.4520296  238       1     "
      ]
     },
     "metadata": {},
     "output_type": "display_data"
    }
   ],
   "source": [
    "head(new_df)"
   ]
  },
  {
   "cell_type": "code",
   "execution_count": 21,
   "metadata": {},
   "outputs": [],
   "source": [
    "save(new_df, file = '../../data/main_process_preprocessed_data_2.RData')\n",
    "write.csv(new_df, file = '../../data/main_process_preprocessed_data_2.csv',row.names=FALSE)"
   ]
  },
  {
   "cell_type": "code",
   "execution_count": null,
   "metadata": {},
   "outputs": [],
   "source": []
  }
 ],
 "metadata": {
  "kernelspec": {
   "display_name": "R",
   "language": "R",
   "name": "ir"
  },
  "language_info": {
   "codemirror_mode": "r",
   "file_extension": ".r",
   "mimetype": "text/x-r-source",
   "name": "R",
   "pygments_lexer": "r",
   "version": "3.5.2"
  }
 },
 "nbformat": 4,
 "nbformat_minor": 2
}
