{
 "cells": [
  {
   "cell_type": "code",
   "execution_count": null,
   "metadata": {},
   "outputs": [],
   "source": []
  },
  {
   "cell_type": "code",
   "execution_count": 1,
   "metadata": {},
   "outputs": [
    {
     "name": "stderr",
     "output_type": "stream",
     "text": [
      "Loading required package: data.table\n",
      "Loading required package: ggplot2\n",
      "Loading required package: survival\n"
     ]
    }
   ],
   "source": [
    "require(data.table)\n",
    "require(ggplot2)\n",
    "require(survival)\n",
    "\n",
    "options(repr.plot.width=6, repr.plot.height=4)"
   ]
  },
  {
   "cell_type": "code",
   "execution_count": 2,
   "metadata": {},
   "outputs": [],
   "source": [
    "path = '/Users/davide/Documents/universita/tesi/src/survival_process/'\n",
    "setwd(path)\n",
    "\n",
    "load('../../data/main_process_preprocessed_data_2.RData')"
   ]
  },
  {
   "cell_type": "code",
   "execution_count": 3,
   "metadata": {},
   "outputs": [
    {
     "data": {
      "text/html": [
       "<table>\n",
       "<thead><tr><th scope=col>id</th><th scope=col>sex</th><th scope=col>age_in</th><th scope=col>PC1</th><th scope=col>PC2</th><th scope=col>time_event</th><th scope=col>status</th></tr></thead>\n",
       "<tbody>\n",
       "\t<tr><td>10000243  </td><td>M         </td><td>70        </td><td>-40.851181</td><td> 1.0158516</td><td>  51      </td><td>1         </td></tr>\n",
       "\t<tr><td>10000471  </td><td>F         </td><td>80        </td><td>-41.405426</td><td> 0.8888934</td><td>1058      </td><td>1         </td></tr>\n",
       "\t<tr><td>10000717  </td><td>M         </td><td>73        </td><td>-10.854551</td><td>-9.4426737</td><td> 705      </td><td>0         </td></tr>\n",
       "\t<tr><td>10003004  </td><td>F         </td><td>75        </td><td>  4.612457</td><td>-2.4369352</td><td>1658      </td><td>1         </td></tr>\n",
       "\t<tr><td>10006065  </td><td>M         </td><td>69        </td><td> 61.216558</td><td> 6.4277908</td><td>1950      </td><td>0         </td></tr>\n",
       "\t<tr><td>10007000  </td><td>F         </td><td>84        </td><td> -2.634210</td><td> 3.4520296</td><td> 238      </td><td>1         </td></tr>\n",
       "</tbody>\n",
       "</table>\n"
      ],
      "text/latex": [
       "\\begin{tabular}{r|lllllll}\n",
       " id & sex & age\\_in & PC1 & PC2 & time\\_event & status\\\\\n",
       "\\hline\n",
       "\t 10000243   & M          & 70         & -40.851181 &  1.0158516 &   51       & 1         \\\\\n",
       "\t 10000471   & F          & 80         & -41.405426 &  0.8888934 & 1058       & 1         \\\\\n",
       "\t 10000717   & M          & 73         & -10.854551 & -9.4426737 &  705       & 0         \\\\\n",
       "\t 10003004   & F          & 75         &   4.612457 & -2.4369352 & 1658       & 1         \\\\\n",
       "\t 10006065   & M          & 69         &  61.216558 &  6.4277908 & 1950       & 0         \\\\\n",
       "\t 10007000   & F          & 84         &  -2.634210 &  3.4520296 &  238       & 1         \\\\\n",
       "\\end{tabular}\n"
      ],
      "text/markdown": [
       "\n",
       "| id | sex | age_in | PC1 | PC2 | time_event | status |\n",
       "|---|---|---|---|---|---|---|\n",
       "| 10000243   | M          | 70         | -40.851181 |  1.0158516 |   51       | 1          |\n",
       "| 10000471   | F          | 80         | -41.405426 |  0.8888934 | 1058       | 1          |\n",
       "| 10000717   | M          | 73         | -10.854551 | -9.4426737 |  705       | 0          |\n",
       "| 10003004   | F          | 75         |   4.612457 | -2.4369352 | 1658       | 1          |\n",
       "| 10006065   | M          | 69         |  61.216558 |  6.4277908 | 1950       | 0          |\n",
       "| 10007000   | F          | 84         |  -2.634210 |  3.4520296 |  238       | 1          |\n",
       "\n"
      ],
      "text/plain": [
       "  id       sex age_in PC1        PC2        time_event status\n",
       "1 10000243 M   70     -40.851181  1.0158516   51       1     \n",
       "2 10000471 F   80     -41.405426  0.8888934 1058       1     \n",
       "3 10000717 M   73     -10.854551 -9.4426737  705       0     \n",
       "4 10003004 F   75       4.612457 -2.4369352 1658       1     \n",
       "5 10006065 M   69      61.216558  6.4277908 1950       0     \n",
       "6 10007000 F   84      -2.634210  3.4520296  238       1     "
      ]
     },
     "metadata": {},
     "output_type": "display_data"
    }
   ],
   "source": [
    "head(new_df)"
   ]
  },
  {
   "cell_type": "code",
   "execution_count": 7,
   "metadata": {},
   "outputs": [
    {
     "data": {
      "text/html": [
       "<ol class=list-inline>\n",
       "\t<li>4541</li>\n",
       "\t<li>7</li>\n",
       "</ol>\n"
      ],
      "text/latex": [
       "\\begin{enumerate*}\n",
       "\\item 4541\n",
       "\\item 7\n",
       "\\end{enumerate*}\n"
      ],
      "text/markdown": [
       "1. 4541\n",
       "2. 7\n",
       "\n",
       "\n"
      ],
      "text/plain": [
       "[1] 4541    7"
      ]
     },
     "metadata": {},
     "output_type": "display_data"
    }
   ],
   "source": [
    "dim(new_df)"
   ]
  },
  {
   "cell_type": "markdown",
   "metadata": {},
   "source": [
    "# Cross Validate"
   ]
  },
  {
   "cell_type": "code",
   "execution_count": 23,
   "metadata": {},
   "outputs": [
    {
     "name": "stdout",
     "output_type": "stream",
     "text": [
      "  |======================================================================| 100%"
     ]
    }
   ],
   "source": [
    "set.seed(143)\n",
    "#Randomly shuffle the observations\n",
    "new_df = new_df[sample(1:dim(new_df)[1]),]\n",
    "#Create 10 equally size folds\n",
    "folds <- cut(seq(1,dim(new_df)[1]),breaks=10,labels=FALSE)\n",
    "\n",
    "#Perform 10 fold cross validation\n",
    "scores = NULL\n",
    "pb <- txtProgressBar(min = 0, max = 10, style = 3)\n",
    "for(i in 1:10){\n",
    "    setTxtProgressBar(pb, i)\n",
    "    #Segement data by fold \n",
    "    validIndexes <- which(folds==i,arr.ind=TRUE)\n",
    "    valid = new_df[validIndexes,]\n",
    "    train = new_df[-validIndexes,]\n",
    "\n",
    "    # fit\n",
    "    models = list(\n",
    "        coxph(Surv(time_event,status)~ age_in, data = train),\n",
    "        coxph(Surv(time_event,status)~ age_in + sex, data = train),\n",
    "        coxph(Surv(time_event,status)~ age_in + sex , data = train),\n",
    "        coxph(Surv(time_event,status)~ age_in  + PC1, data = train),\n",
    "        coxph(Surv(time_event,status)~ age_in + sex + PC1, data = train),\n",
    "        coxph(Surv(time_event,status)~ age_in + sex + PC2, data = train),\n",
    "        coxph(Surv(time_event,status)~ age_in + sex + PC1 + PC2, data = train)\n",
    "    )\n",
    "    # predict, evaluate\n",
    "    fold_scores = c()\n",
    "    for(model in models){\n",
    "        prediction = predict(model, newdata = valid)\n",
    "        # evaluate concordance probability\n",
    "        score = survConcordance(Surv(time_event,status) ~ prediction, data = valid)$concordance[[1]]\n",
    "        fold_scores = c(fold_scores,score)\n",
    "    }\n",
    "    scores = rbind(scores,fold_scores)\n",
    "}\n",
    "rownames(scores) = 1:10\n",
    "colnames(scores) = names(models)"
   ]
  },
  {
   "cell_type": "code",
   "execution_count": 25,
   "metadata": {},
   "outputs": [],
   "source": [
    "# summarize CV scores\n",
    "mean_scores = colMeans(scores)\n",
    "best_score = max(mean_scores)\n",
    "worst_score = min(mean_scores)"
   ]
  },
  {
   "cell_type": "code",
   "execution_count": 32,
   "metadata": {},
   "outputs": [
    {
     "name": "stdout",
     "output_type": "stream",
     "text": [
      "[1] \"****************** Cross validation Concordance Probability index ******************\"\n",
      "\n",
      "[1] \"|------------------------|--------------------------------------|\"\n",
      "[1] \"|        C-INDEX         |               FORMULA                |\"\n",
      "[1] \"|------------------------|--------------------------------------|\"\n",
      "[1] \"|        66.9 %          |  age_in                  <------ WORST MODEL\"\n",
      "[1] \"|        67.1 %          |  age_in + sex\"\n",
      "[1] \"|        67.1 %          |  age_in + sex\"\n",
      "[1] \"|        67.2 %          |  age_in + PC1\"\n",
      "[1] \"|        67.5 %          |  age_in + sex + PC1                  <------ BEST MODEL\"\n",
      "[1] \"|        67.1 %          |  age_in + sex + PC2\"\n",
      "[1] \"|        67.5 %          |  age_in + sex + PC1 + PC2\"\n"
     ]
    }
   ],
   "source": [
    "# print cv scores\n",
    "print('****************** Cross validation Concordance Probability index ******************')\n",
    "cat('\\n')\n",
    "print('|------------------------|--------------------------------------|')\n",
    "print('|        C-INDEX         |               FORMULA                |')\n",
    "print('|------------------------|--------------------------------------|')\n",
    "for(i in 1:length(models)){\n",
    "    score = mean_scores[i]\n",
    "    if(score != best_score & score != worst_score){\n",
    "        print(paste('|       ',round(mean_scores[i]*100,1),'%          | ',models[[i]]$formula[3]))\n",
    "    }else if (score == best_score){\n",
    "        print(paste('|       ',round(mean_scores[i]*100,1),'%          | ',models[[i]]$formula[3], '                 <------ BEST MODEL'))\n",
    "    }else{\n",
    "        print(paste('|       ',round(mean_scores[i]*100,1),'%          | ',models[[i]]$formula[3], '                 <------ WORST MODEL'))\n",
    "    }\n",
    "}"
   ]
  },
  {
   "cell_type": "markdown",
   "metadata": {},
   "source": [
    "# Fit"
   ]
  },
  {
   "cell_type": "code",
   "execution_count": 33,
   "metadata": {},
   "outputs": [
    {
     "data": {
      "text/plain": [
       "Call:\n",
       "coxph(formula = Surv(time_event, status) ~ age_in + sex + PC1, \n",
       "    data = new_df)\n",
       "\n",
       "             coef  exp(coef)   se(coef)      z       p\n",
       "age_in  0.0657175  1.0679249  0.0035578 18.471 < 2e-16\n",
       "sexM    0.1886813  1.2076560  0.0596932  3.161 0.00157\n",
       "PC1    -0.0029608  0.9970436  0.0007483 -3.957 7.6e-05\n",
       "\n",
       "Likelihood ratio test=455  on 3 df, p=< 2.2e-16\n",
       "n= 4541, number of events= 1200 "
      ]
     },
     "metadata": {},
     "output_type": "display_data"
    }
   ],
   "source": [
    "fit = coxph(Surv(time_event,status)~ age_in + sex + PC1, data = new_df)\n",
    "fit"
   ]
  },
  {
   "cell_type": "code",
   "execution_count": null,
   "metadata": {},
   "outputs": [],
   "source": []
  }
 ],
 "metadata": {
  "kernelspec": {
   "display_name": "R",
   "language": "R",
   "name": "ir"
  },
  "language_info": {
   "codemirror_mode": "r",
   "file_extension": ".r",
   "mimetype": "text/x-r-source",
   "name": "R",
   "pygments_lexer": "r",
   "version": "3.5.2"
  }
 },
 "nbformat": 4,
 "nbformat_minor": 2
}
