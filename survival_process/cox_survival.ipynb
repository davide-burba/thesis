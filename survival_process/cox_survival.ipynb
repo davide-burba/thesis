{
 "cells": [
  {
   "cell_type": "code",
   "execution_count": null,
   "metadata": {},
   "outputs": [],
   "source": []
  },
  {
   "cell_type": "code",
   "execution_count": 5,
   "metadata": {},
   "outputs": [],
   "source": [
    "require(data.table)\n",
    "require(ggplot2)\n",
    "require(survival)\n",
    "\n",
    "options(repr.plot.width=6, repr.plot.height=4)"
   ]
  },
  {
   "cell_type": "code",
   "execution_count": 10,
   "metadata": {},
   "outputs": [],
   "source": [
    "path = '/Users/davide/Documents/universita/tesi/src/survival_process/'\n",
    "setwd(path)\n",
    "\n",
    "load('../../data/main_process_preprocessed_data.RData')"
   ]
  },
  {
   "cell_type": "code",
   "execution_count": 11,
   "metadata": {},
   "outputs": [
    {
     "data": {
      "text/html": [
       "<table>\n",
       "<thead><tr><th scope=col>id</th><th scope=col>sex</th><th scope=col>age_in</th><th scope=col>PC1</th><th scope=col>PC2</th><th scope=col>time_event</th><th scope=col>status</th></tr></thead>\n",
       "<tbody>\n",
       "\t<tr><td>10000717   </td><td>M          </td><td>73         </td><td>-10.299129 </td><td>-3.34178201</td><td> 705       </td><td>0          </td></tr>\n",
       "\t<tr><td>10003004   </td><td>F          </td><td>75         </td><td> -8.944040 </td><td>-0.44160539</td><td>1658       </td><td>1          </td></tr>\n",
       "\t<tr><td>10006065   </td><td>M          </td><td>69         </td><td>  7.011157 </td><td> 3.96387733</td><td>1950       </td><td>0          </td></tr>\n",
       "\t<tr><td>10007000   </td><td>F          </td><td>84         </td><td>-14.379666 </td><td> 0.06735727</td><td> 238       </td><td>1          </td></tr>\n",
       "\t<tr><td>10007024   </td><td>M          </td><td>71         </td><td> -6.815942 </td><td> 0.15195553</td><td>1914       </td><td>0          </td></tr>\n",
       "\t<tr><td>10007217   </td><td>F          </td><td>75         </td><td>-13.031433 </td><td>-0.58113572</td><td>1172       </td><td>0          </td></tr>\n",
       "</tbody>\n",
       "</table>\n"
      ],
      "text/latex": [
       "\\begin{tabular}{r|lllllll}\n",
       " id & sex & age\\_in & PC1 & PC2 & time\\_event & status\\\\\n",
       "\\hline\n",
       "\t 10000717    & M           & 73          & -10.299129  & -3.34178201 &  705        & 0          \\\\\n",
       "\t 10003004    & F           & 75          &  -8.944040  & -0.44160539 & 1658        & 1          \\\\\n",
       "\t 10006065    & M           & 69          &   7.011157  &  3.96387733 & 1950        & 0          \\\\\n",
       "\t 10007000    & F           & 84          & -14.379666  &  0.06735727 &  238        & 1          \\\\\n",
       "\t 10007024    & M           & 71          &  -6.815942  &  0.15195553 & 1914        & 0          \\\\\n",
       "\t 10007217    & F           & 75          & -13.031433  & -0.58113572 & 1172        & 0          \\\\\n",
       "\\end{tabular}\n"
      ],
      "text/markdown": [
       "\n",
       "| id | sex | age_in | PC1 | PC2 | time_event | status |\n",
       "|---|---|---|---|---|---|---|\n",
       "| 10000717    | M           | 73          | -10.299129  | -3.34178201 |  705        | 0           |\n",
       "| 10003004    | F           | 75          |  -8.944040  | -0.44160539 | 1658        | 1           |\n",
       "| 10006065    | M           | 69          |   7.011157  |  3.96387733 | 1950        | 0           |\n",
       "| 10007000    | F           | 84          | -14.379666  |  0.06735727 |  238        | 1           |\n",
       "| 10007024    | M           | 71          |  -6.815942  |  0.15195553 | 1914        | 0           |\n",
       "| 10007217    | F           | 75          | -13.031433  | -0.58113572 | 1172        | 0           |\n",
       "\n"
      ],
      "text/plain": [
       "  id       sex age_in PC1        PC2         time_event status\n",
       "1 10000717 M   73     -10.299129 -3.34178201  705       0     \n",
       "2 10003004 F   75      -8.944040 -0.44160539 1658       1     \n",
       "3 10006065 M   69       7.011157  3.96387733 1950       0     \n",
       "4 10007000 F   84     -14.379666  0.06735727  238       1     \n",
       "5 10007024 M   71      -6.815942  0.15195553 1914       0     \n",
       "6 10007217 F   75     -13.031433 -0.58113572 1172       0     "
      ]
     },
     "metadata": {},
     "output_type": "display_data"
    }
   ],
   "source": [
    "head(new_df)"
   ]
  },
  {
   "cell_type": "markdown",
   "metadata": {},
   "source": [
    "# Cross Validate"
   ]
  },
  {
   "cell_type": "code",
   "execution_count": 49,
   "metadata": {},
   "outputs": [
    {
     "name": "stdout",
     "output_type": "stream",
     "text": [
      "  |======================================================================| 100%"
     ]
    }
   ],
   "source": [
    "set.seed(143)\n",
    "#Randomly shuffle the observations\n",
    "new_df = new_df[sample(1:dim(new_df)[1]),]\n",
    "#Create 10 equally size folds\n",
    "folds <- cut(seq(1,dim(new_df)[1]),breaks=10,labels=FALSE)\n",
    "\n",
    "#Perform 10 fold cross validation\n",
    "scores = NULL\n",
    "pb <- txtProgressBar(min = 0, max = 10, style = 3)\n",
    "for(i in 1:10){\n",
    "    setTxtProgressBar(pb, i)\n",
    "    #Segement data by fold \n",
    "    validIndexes <- which(folds==i,arr.ind=TRUE)\n",
    "    valid = new_df[validIndexes,]\n",
    "    train = new_df[-validIndexes,]\n",
    "\n",
    "    # fit\n",
    "    models = list(\n",
    "        model0 = coxph(Surv(time_event,status)~ age_in, data = train),\n",
    "        model1 = coxph(Surv(time_event,status)~ age_in + sex , data = train),\n",
    "        model2 = coxph(Surv(time_event,status)~ age_in + sex + PC1, data = train),\n",
    "        model3 = coxph(Surv(time_event,status)~ age_in + sex + PC2, data = train),\n",
    "        model4 = coxph(Surv(time_event,status)~ age_in + sex + PC1 + PC2, data = train)\n",
    "    )\n",
    "    # predict, evaluate\n",
    "    fold_scores = c()\n",
    "    for(model in models){\n",
    "        prediction = predict(model, newdata = valid)\n",
    "        # evaluate concordance probability\n",
    "        score = survConcordance(Surv(time_event,status) ~ prediction, data = valid)$concordance[[1]]\n",
    "        fold_scores = c(fold_scores,score)\n",
    "    }\n",
    "    scores = rbind(scores,fold_scores)\n",
    "}\n",
    "rownames(scores) = 1:10\n",
    "colnames(scores) = names(models)"
   ]
  },
  {
   "cell_type": "code",
   "execution_count": 50,
   "metadata": {},
   "outputs": [
    {
     "name": "stdout",
     "output_type": "stream",
     "text": [
      "[1] \"Cross validation concordance probability\"\n",
      "[1] \"model0 : 67 %\"\n",
      "[1] \"model1 : 67.1 %\"\n",
      "[1] \"model2 : 67.2 %\"\n",
      "[1] \"model3 : 67 %\"\n",
      "[1] \"model4 : 67.1 %\"\n"
     ]
    }
   ],
   "source": [
    "# print cv scores\n",
    "mean_scores = colMeans(scores)\n",
    "model_names = colnames(scores)\n",
    "print('Cross validation concordance probability')\n",
    "for(i in 1:length(models)){\n",
    "    print(paste(model_names[i],':',round(mean_scores[i]*100,1),'%'))\n",
    "}"
   ]
  },
  {
   "cell_type": "markdown",
   "metadata": {},
   "source": [
    "# Fit"
   ]
  },
  {
   "cell_type": "code",
   "execution_count": 51,
   "metadata": {},
   "outputs": [
    {
     "data": {
      "text/plain": [
       "Call:\n",
       "coxph(formula = Surv(time_event, status) ~ age_in + sex + PC1 + \n",
       "    PC2, data = new_df)\n",
       "\n",
       "            coef exp(coef)  se(coef)      z       p\n",
       "age_in  0.065955  1.068179  0.004663 14.145 < 2e-16\n",
       "sexM    0.215429  1.240394  0.077702  2.773 0.00556\n",
       "PC1    -0.003765  0.996242  0.002153 -1.749 0.08035\n",
       "PC2    -0.027000  0.973361  0.016231 -1.663 0.09622\n",
       "\n",
       "Likelihood ratio test=277  on 4 df, p=< 2.2e-16\n",
       "n= 2916, number of events= 718 "
      ]
     },
     "metadata": {},
     "output_type": "display_data"
    }
   ],
   "source": [
    "fit = coxph(Surv(time_event,status)~ age_in + sex + PC1 + PC2, data = new_df)\n",
    "fit"
   ]
  },
  {
   "cell_type": "code",
   "execution_count": null,
   "metadata": {},
   "outputs": [],
   "source": []
  }
 ],
 "metadata": {
  "kernelspec": {
   "display_name": "R",
   "language": "R",
   "name": "ir"
  },
  "language_info": {
   "codemirror_mode": "r",
   "file_extension": ".r",
   "mimetype": "text/x-r-source",
   "name": "R",
   "pygments_lexer": "r",
   "version": "3.5.2"
  }
 },
 "nbformat": 4,
 "nbformat_minor": 2
}
