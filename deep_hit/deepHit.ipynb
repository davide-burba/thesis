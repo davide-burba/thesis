{
 "cells": [
  {
   "cell_type": "code",
   "execution_count": 1,
   "metadata": {},
   "outputs": [],
   "source": [
    "import pandas as pd\n",
    "import numpy as np\n",
    "import matplotlib.pyplot as plt\n",
    "from sklearn.model_selection import train_test_split\n",
    "from sklearn.preprocessing import scale\n",
    "\n",
    "import torch\n",
    "import torch.nn as nn\n",
    "import torch.nn.functional as F\n",
    "import torch.optim as optim\n",
    "from torch.utils.data import Dataset,DataLoader"
   ]
  },
  {
   "cell_type": "markdown",
   "metadata": {},
   "source": [
    "# DeepHit"
   ]
  },
  {
   "cell_type": "code",
   "execution_count": 2,
   "metadata": {},
   "outputs": [],
   "source": [
    "df = pd.read_csv('../../data/main_process_preprocessed_data.csv')"
   ]
  },
  {
   "cell_type": "code",
   "execution_count": 3,
   "metadata": {},
   "outputs": [],
   "source": [
    "# parameters\n",
    "T_max = 3000\n",
    "n_times = 100"
   ]
  },
  {
   "cell_type": "code",
   "execution_count": 4,
   "metadata": {},
   "outputs": [],
   "source": [
    "# create dummy sex\n",
    "df['sexM'] = [1 if v == 'M' else 0 for v in df.sex]\n",
    "# discretise time\n",
    "df['discretised_time_event'] = [int(v) for v in df.time_event/T_max*n_times]\n",
    "# set features\n",
    "features = ['sexM', 'age_in','ACE_PC1', 'ACE_PC2','beta_PC1', 'beta_PC2','hospitalisation_PC1', 'hospitalisation_PC2']\n",
    "n_features = len(features)"
   ]
  },
  {
   "cell_type": "markdown",
   "metadata": {},
   "source": [
    "## Prepare data"
   ]
  },
  {
   "cell_type": "code",
   "execution_count": 5,
   "metadata": {},
   "outputs": [
    {
     "name": "stderr",
     "output_type": "stream",
     "text": [
      "/Users/davide/anaconda3/lib/python3.6/site-packages/ipykernel_launcher.py:2: DataConversionWarning: Data with input dtype int64, float64 were all converted to float64 by the scale function.\n",
      "  \n"
     ]
    }
   ],
   "source": [
    "# tmp: scale now\n",
    "X = pd.DataFrame(scale(df[features]),columns = features)  \n",
    "y = df.discretised_time_event\n",
    "status = df.status\n",
    "\n",
    "# let's build just a validation set for the moment\n",
    "X_train, X_valid,y_train, y_valid, status_train, status_valid = train_test_split(X, y, status, test_size=0.2, random_state=47)\n",
    "\n",
    "# transform validation sets in tensors\n",
    "X_valid = torch.from_numpy(X_valid.values.astype('float32'))\n",
    "y_valid = torch.from_numpy(y_valid.values)\n",
    "#y_valid = torch.from_numpy(y_valid.values.astype('float32'))\n",
    "status_valid = torch.from_numpy(status_valid.values)"
   ]
  },
  {
   "cell_type": "code",
   "execution_count": 6,
   "metadata": {},
   "outputs": [],
   "source": [
    "class ColumnarDataset(Dataset):\n",
    "    def __init__(self, X, y,status):\n",
    "        self.dfconts = X\n",
    "        \n",
    "        self.conts = np.stack([c.values for n, c in self.dfconts.items()], axis=1).astype(np.float32)\n",
    "        #self.y = y.values.astype(np.float32)\n",
    "        self.y = y.values\n",
    "        self.status = status.values\n",
    "        \n",
    "    def __len__(self): return len(self.y)\n",
    " \n",
    "    def __getitem__(self, idx):\n",
    "        return [self.conts[idx], self.y[idx], self.status[idx]]"
   ]
  },
  {
   "cell_type": "markdown",
   "metadata": {},
   "source": [
    "## Define the network"
   ]
  },
  {
   "cell_type": "code",
   "execution_count": 7,
   "metadata": {},
   "outputs": [
    {
     "data": {
      "text/plain": [
       "Net(\n",
       "  (fc1): Linear(in_features=8, out_features=32, bias=True)\n",
       "  (fc2): Linear(in_features=32, out_features=32, bias=True)\n",
       "  (fc3): Linear(in_features=32, out_features=100, bias=True)\n",
       "  (droput): Dropout(p=0.15)\n",
       ")"
      ]
     },
     "execution_count": 7,
     "metadata": {},
     "output_type": "execute_result"
    }
   ],
   "source": [
    "class Net(nn.Module):\n",
    "    def __init__(self):\n",
    "        super(Net, self).__init__()\n",
    "        self.fc1 = nn.Linear(n_features, 32)\n",
    "        self.fc2 = nn.Linear(32, 32)\n",
    "        self.fc3 = nn.Linear(32, n_times)\n",
    "        self.droput = nn.Dropout(p=0.15)\n",
    "\n",
    "    def forward(self, x):\n",
    "        # TODO: add batch normalization\n",
    "        x = F.relu(self.fc1(x))\n",
    "        x = self.droput(x)\n",
    "        x = F.relu(self.fc2(x))\n",
    "        x = self.droput(x)\n",
    "        x = F.softmax(self.fc3(x),dim=1)\n",
    "        return x\n",
    "\n",
    "net = Net()\n",
    "\n",
    "# use GPU if available\n",
    "device = torch.device(\"cuda:0\" if torch.cuda.is_available() else \"cpu\")\n",
    "net.to(device)"
   ]
  },
  {
   "cell_type": "markdown",
   "metadata": {},
   "source": [
    "## Define Custom loss class"
   ]
  },
  {
   "cell_type": "code",
   "execution_count": 8,
   "metadata": {},
   "outputs": [],
   "source": [
    "class Surv_Loss(torch.nn.Module):  \n",
    "    #def __init__(self):\n",
    "     #   super(nn.CrossEntropyLoss,self).__init__()\n",
    "        \n",
    "    def forward(self,y_pred,y,status):\n",
    "        totloss = 0\n",
    "        for i in range(len(y)):    \n",
    "            v = y[i]\n",
    "            k = status[i]\n",
    "            y_pred_i = y_pred[i,:]\n",
    "            if k.item() == 1:\n",
    "                totloss -= torch.log(y_pred_i[v])\n",
    "            else:\n",
    "                totloss -= torch.log(1-torch.sum(y_pred_i[:v]))\n",
    "        return totloss"
   ]
  },
  {
   "cell_type": "markdown",
   "metadata": {},
   "source": [
    "## Train"
   ]
  },
  {
   "cell_type": "code",
   "execution_count": 9,
   "metadata": {},
   "outputs": [],
   "source": [
    "# build a data loader\n",
    "trainds= ColumnarDataset(X_train, y_train,status_train) \n",
    "params = {'batch_size': 32,\n",
    "          'shuffle': True,\n",
    "          'num_workers': 4}\n",
    " \n",
    "train_dl = DataLoader(trainds, **params)"
   ]
  },
  {
   "cell_type": "code",
   "execution_count": 10,
   "metadata": {},
   "outputs": [],
   "source": [
    "# set criterion, optimizer:\n",
    "criterion = Surv_Loss()\n",
    "#criterion = nn.CrossEntropyLoss()\n",
    "optimizer = optim.Adam(net.parameters(), lr=0.01)\n",
    "#optimizer = optim.SGD(net.parameters(), lr=0.01, momentum=0.9)"
   ]
  },
  {
   "cell_type": "code",
   "execution_count": 11,
   "metadata": {},
   "outputs": [
    {
     "name": "stdout",
     "output_type": "stream",
     "text": [
      "Epoch:  0    Training Loss:  5714.0    Validation Loss:  1341.69\n",
      "Epoch:  25    Training Loss:  4989.79    Validation Loss:  1559.25\n",
      "Epoch:  50    Training Loss:  4837.87    Validation Loss:  1748.72\n",
      "Epoch:  75    Training Loss:  4754.95    Validation Loss:  1843.17\n",
      "Epoch:  100    Training Loss:  4772.6    Validation Loss:  1827.26\n",
      "Epoch:  125    Training Loss:  4771.3    Validation Loss:  1860.32\n",
      "Finished Training\n"
     ]
    }
   ],
   "source": [
    "num_batch = len(train_dl)\n",
    "\n",
    "train_losses,valid_losses = [],[]\n",
    "\n",
    "# train\n",
    "for epoch in range(150):  # loop over the dataset multiple times\n",
    "    running_loss = 0.0\n",
    "    \n",
    "    net.train()\n",
    "    for i, data in enumerate(train_dl, 0):\n",
    "        inputs, labels, status = data\n",
    "        # make it use GPU, if you have it\n",
    "        inputs, labels, status = inputs.to(device), labels.to(device), status.to(device) \n",
    "        # zero the parameter gradients\n",
    "        optimizer.zero_grad()\n",
    "        # forward + backward + optimize\n",
    "        outputs = net(inputs)\n",
    "        loss = criterion(outputs, labels,status)\n",
    "        loss.backward()\n",
    "        optimizer.step()\n",
    "\n",
    "        # print statistics\n",
    "        running_loss += loss.item()\n",
    "    \n",
    "    # Evaluate on validation set\n",
    "    net.eval()\n",
    "    valid_pred = net(X_valid)\n",
    "    valid_loss = criterion(valid_pred, y_valid,status_valid).item()\n",
    "    \n",
    "    train_losses.append(running_loss)\n",
    "    valid_losses.append(valid_loss)\n",
    "    \n",
    "    if epoch % 25 == 0:    # print every 10 epochs\n",
    "        print('Epoch: ',epoch,'   Training Loss: ',np.round(running_loss,2),'   Validation Loss: ',np.round(valid_loss,2))\n",
    "\n",
    "print('Finished Training')"
   ]
  },
  {
   "cell_type": "code",
   "execution_count": 12,
   "metadata": {},
   "outputs": [
    {
     "data": {
      "image/png": "[encoded data removed]",
      "text/plain": [
       "<Figure size 432x288 with 1 Axes>"
      ]
     },
     "metadata": {
      "needs_background": "light"
     },
     "output_type": "display_data"
    }
   ],
   "source": [
    "plt.plot(train_losses, color = 'orange', label = 'training')\n",
    "plt.plot(valid_losses, color = 'blue', label = 'validation')\n",
    "plt.legend()\n",
    "plt.title('Survival loss')\n",
    "plt.xlabel('epochs')\n",
    "plt.show()"
   ]
  },
  {
   "cell_type": "code",
   "execution_count": null,
   "metadata": {},
   "outputs": [],
   "source": []
  }
 ],
 "metadata": {
  "kernelspec": {
   "display_name": "Python 3",
   "language": "python",
   "name": "python3"
  },
  "language_info": {
   "codemirror_mode": {
    "name": "ipython",
    "version": 3
   },
   "file_extension": ".py",
   "mimetype": "text/x-python",
   "name": "python",
   "nbconvert_exporter": "python",
   "pygments_lexer": "ipython3",
   "version": "3.6.8"
  }
 },
 "nbformat": 4,
 "nbformat_minor": 2
}
